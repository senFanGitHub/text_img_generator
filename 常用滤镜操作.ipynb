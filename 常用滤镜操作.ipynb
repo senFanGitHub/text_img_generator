{
 "cells": [
  {
   "cell_type": "code",
   "execution_count": 1,
   "metadata": {},
   "outputs": [],
   "source": [
    "%matplotlib inline\n",
    "import cv2\n",
    "from matplotlib import pyplot as plt\n",
    "import numpy as np\n",
    "import os\n",
    "import random"
   ]
  },
  {
   "cell_type": "code",
   "execution_count": 2,
   "metadata": {},
   "outputs": [
    {
     "data": {
      "image/png": "[encoded data removed]",
      "text/plain": [
       "<Figure size 432x288 with 1 Axes>"
      ]
     },
     "metadata": {
      "needs_background": "light"
     },
     "output_type": "display_data"
    }
   ],
   "source": [
    "src = cv2.imread('造图测试图像/610简体新字体补充_1.jpg')\n",
    "plt.imshow(src)\n",
    "plt.show()"
   ]
  },
  {
   "cell_type": "code",
   "execution_count": 4,
   "metadata": {},
   "outputs": [],
   "source": [
    "def under_line(src):\n",
    "    \n",
    "    img= np.array(src)\n",
    "    chose_color =random.randint(0,1)\n",
    "    if chose_color==0:\n",
    "        color = ( random.randint(0,255),  random.randint(0,255),  random.randint(0,255)) #4\n",
    "    else:\n",
    "        color=(0,0,0)\n",
    "    thickness=random.randint(1,3)\n",
    "    y=int(img.shape[0]*(30/32))\n",
    "    cv2.line(img, (1, y), (img.shape[1], y), color=color,thickness=thickness) \n",
    "    plt.imshow(img)\n",
    "    plt.show()\n",
    "\n",
    "root = '造图测试图像'\n",
    "pics = os.listdir(root)\n",
    "for p in pics:\n",
    "    img = os.path.join(root,p)\n",
    "#     src = cv2.imread(img)\n",
    "#     under_line(src)"
   ]
  },
  {
   "cell_type": "code",
   "execution_count": 51,
   "metadata": {},
   "outputs": [],
   "source": [
    "## 运动模糊效果\n",
    "\n",
    "def motion_blur(image):\n",
    "    \n",
    "    degree=random.randint(5,10)\n",
    "    angle=random.randint(45,60)\n",
    "    \n",
    "    image = np.array(image)\n",
    " \n",
    "    # 这里生成任意角度的运动模糊kernel的矩阵， degree越大，模糊程度越高\n",
    "    M = cv2.getRotationMatrix2D((degree / 2, degree / 2), angle, 1)\n",
    "    motion_blur_kernel = np.diag(np.ones(degree))\n",
    "    motion_blur_kernel = cv2.warpAffine(motion_blur_kernel, M, (degree, degree))\n",
    " \n",
    "    motion_blur_kernel = motion_blur_kernel / degree\n",
    "    blurred = cv2.filter2D(image, -1, motion_blur_kernel)\n",
    " \n",
    "    # convert to uint8\n",
    "    cv2.normalize(blurred, blurred, 0, 255, cv2.NORM_MINMAX)\n",
    "    blurred = np.array(blurred, dtype=np.uint8)\n",
    "\n",
    "    return blurred"
   ]
  },
  {
   "cell_type": "code",
   "execution_count": 52,
   "metadata": {},
   "outputs": [],
   "source": [
    "## 高斯模糊\n",
    "def Gaussian_blur(src):\n",
    "    img_ = cv2.GaussianBlur(src, ksize=(7, 7), sigmaX=0, sigmaY=0)\n",
    "    plt.imshow(img_)\n",
    "    plt.show()"
   ]
  },
  {
   "cell_type": "code",
   "execution_count": 55,
   "metadata": {},
   "outputs": [],
   "source": [
    "## \n",
    "def draw_random_shape(src):\n",
    "    img= np.array(src)\n",
    "    n = random.randint(1,3)\n",
    "    for i in range(n):\n",
    "        color = ( random.randint(0,255),  random.randint(0,255),  random.randint(0,255)) #4\n",
    "\n",
    "        x1 = random.randint(0,img.shape[1]-1)\n",
    "        x2 = random.randint(0,img.shape[1]-1)\n",
    "        y1 = random.randint(0,img.shape[0]-1)\n",
    "        y2 = random.randint(0,img.shape[0]-1)\n",
    "        r =random.randint(5,50)\n",
    "        thickness=random.randint(1,2)\n",
    "        \n",
    "        \n",
    "        \n",
    "        \n",
    "        line =random.randint(0,2)\n",
    "        if line==2:\n",
    "            cv2.line(img, (x1, y1), (x2, y2), color=color,thickness=thickness) \n",
    "            continue\n",
    "        rect =random.randint(0,2)    \n",
    "        if rect ==2:\n",
    "            cv2.rectangle(img, (x1, y1), (x2, y2), color=color,thickness=thickness) \n",
    "            continue\n",
    "        cv2.circle(img, (x1, y1),  r,color=color,thickness=thickness) \n",
    "\n",
    "    return img"
   ]
  },
  {
   "cell_type": "code",
   "execution_count": 5,
   "metadata": {},
   "outputs": [],
   "source": [
    "for i in range(10):\n",
    "    img = motion_blur(draw_random_shape(src))\n",
    "\n",
    "    plt.imshow(img)\n",
    "    plt.show()"
   ]
  },
  {
   "cell_type": "code",
   "execution_count": 203,
   "metadata": {},
   "outputs": [],
   "source": [
    "def enhance(src):\n",
    "    kernel_sharpen_1 = np.array([\n",
    "            [-1,-1,-1],\n",
    "            [-1,9,-1],\n",
    "            [-1,-1,-1]])\n",
    "    kernel_sharpen_2 = np.array([\n",
    "            [1,1,1],\n",
    "            [1,-7,1],\n",
    "            [1,1,1]])\n",
    "    kernel_sharpen_3 = np.array([\n",
    "            [-1,-1,-1,-1,-1],\n",
    "            [-1,2,2,2,-1],\n",
    "            [-1,2,8,2,-1],\n",
    "            [-1,2,2,2,-1], \n",
    "            [-1,-1,-1,-1,-1]])/8.0\n",
    "    #卷积\n",
    "    output_1 = cv2.filter2D(src,-1,kernel_sharpen_1)\n",
    "    output_2 = cv2.filter2D(src,-1,kernel_sharpen_2)\n",
    "    output_3 = cv2.filter2D(src,-1,kernel_sharpen_3)\n",
    "\n",
    "    plt.imshow(output_2*output_3*output_1)\n",
    "    plt.show()"
   ]
  },
  {
   "cell_type": "code",
   "execution_count": 1,
   "metadata": {},
   "outputs": [
    {
     "name": "stdout",
     "output_type": "stream",
     "text": [
      "['#660066', '#003366', '#008000', '#ffd700', '#ffa500', '#0066dc', '#ffc3a0', '#079fab', '#ab07a5', '#7e082a', '#710c4c', '#6c78a7', '#6c78a7', '#a3ff00', '#7fffd4', '#ff9ca6', '#4b3621', '#60aef6', '#190533', '#450e3e']\n"
     ]
    }
   ],
   "source": [
    "a='#660066 #003366 #008000 #ffd700 #ffa500 #0066dc #ffc3a0 #079fab #ab07a5 #7e082a #710c4c #6c78a7 #6c78a7 #a3ff00 #7fffd4 #ff9ca6 #4b3621 #60aef6 #190533 #450e3e'\n",
    "As=a.split(' ')\n",
    "print(As)"
   ]
  },
  {
   "cell_type": "code",
   "execution_count": 47,
   "metadata": {},
   "outputs": [],
   "source": [
    "## 叠加光线滤镜\n",
    "def add_lights(src):\n",
    "    lights_path = '/data1/ml/ocr/TextRecognitionDataGenerator/TextRecognitionDataGenerator/渐变曝光'\n",
    "    jpgs = os.listdir(lights_path)\n",
    "    I =random.randint(0,len(jpgs)-1)\n",
    "    background = cv2.imread(os.path.join(lights_path,jpgs[I]),0)\n",
    "    background =cv2.cvtColor(background,cv2.COLOR_GRAY2BGR)\n",
    "    L=int(max(src.shape)*1.2)\n",
    "    background = cv2.resize(background,(src.shape[1],src.shape[0]))\n",
    "#     print(background.shape)\n",
    "    \n",
    "    \n",
    "#     H=random.randint(0,background.shape[0]-src.shape[0]-1)\n",
    "#     W=random.randint(0,background.shape[1]-src.shape[1]-1)\n",
    "#     print((H,W))\n",
    "    \n",
    "    \n",
    "    \n",
    "    \n",
    "#     ROI = (background[H:H+src.shape[0],W:W+src.shape[1],:])\n",
    "#     print(ROI.shape)\n",
    "#     print(src.shape)\n",
    "    \n",
    "#     assert (ROI.shape == src.shape)\n",
    "    \n",
    "    alpha = random.randint(9,10)\n",
    "    beta = random.randint(5,10)\n",
    "    dst=cv2.addWeighted(src, 1, background,beta/5., 0)\n",
    "    \n",
    "    plt.imshow(background)\n",
    "    plt.show()\n",
    "    plt.imshow(dst)\n",
    "    plt.show()"
   ]
  },
  {
   "cell_type": "code",
   "execution_count": 6,
   "metadata": {},
   "outputs": [],
   "source": [
    "for i in range(30):\n",
    "    add_lights(src)"
   ]
  },
  {
   "cell_type": "code",
   "execution_count": 150,
   "metadata": {},
   "outputs": [],
   "source": [
    "## 反转滤镜\n",
    "def color_convert(src):\n",
    "    img_info=src.shape\n",
    "    image_height=img_info[0]\n",
    "    image_weight=img_info[1]\n",
    "    dst=np.zeros((image_height,image_weight,3),np.uint8)\n",
    "    for i in range(image_height):\n",
    "        for j in range(image_weight):\n",
    "            (b,g,r)=src[i][j]\n",
    "            dst[i][j]=(255-b,255-g,255-r)\n",
    "\n",
    "    plt.imshow(dst)\n",
    "    plt.show()\n",
    "    return dst"
   ]
  },
  {
   "cell_type": "code",
   "execution_count": 45,
   "metadata": {},
   "outputs": [],
   "source": [
    "# 椒盐滤镜\n",
    "def saltpepper(img,n):\n",
    "    m=int((img.shape[0]*img.shape[1])*n)\n",
    "    for a in range(m):\n",
    "        i=int(np.random.random()*img.shape[1])\n",
    "        j=int(np.random.random()*img.shape[0])\n",
    "        if img.ndim==2:\n",
    "            img[j,i]=255\n",
    "        elif img.ndim==3:\n",
    "            img[j,i,0]=255\n",
    "            img[j,i,1]=255\n",
    "            img[j,i,2]=255\n",
    "    for b in range(m):\n",
    "        i=int(np.random.random()*img.shape[1])\n",
    "        j=int(np.random.random()*img.shape[0])\n",
    "        if img.ndim==2:\n",
    "            img[j,i]=0\n",
    "        elif img.ndim==3:\n",
    "            img[j,i,0]=0\n",
    "            img[j,i,1]=0\n",
    "            img[j,i,2]=0\n",
    "        \n",
    "    plt.imshow(img)\n",
    "    plt.show()\n",
    "    return img"
   ]
  },
  {
   "cell_type": "code",
   "execution_count": 46,
   "metadata": {},
   "outputs": [],
   "source": [
    "## 模糊丢失滤镜\n",
    "def Lost_info(src):\n",
    "    img=cv2.resize(src,(int(src.shape[1]/2),int(src.shape[0]/2)))\n",
    "    img=cv2.resize(img,(src.shape[1],src.shape[0]))\n",
    "\n",
    "    return img"
   ]
  },
  {
   "cell_type": "code",
   "execution_count": null,
   "metadata": {},
   "outputs": [],
   "source": []
  }
 ],
 "metadata": {
  "kernelspec": {
   "display_name": "Python 3",
   "language": "python",
   "name": "python3"
  },
  "language_info": {
   "codemirror_mode": {
    "name": "ipython",
    "version": 3
   },
   "file_extension": ".py",
   "mimetype": "text/x-python",
   "name": "python",
   "nbconvert_exporter": "python",
   "pygments_lexer": "ipython3",
   "version": "3.6.8"
  }
 },
 "nbformat": 4,
 "nbformat_minor": 2
}
